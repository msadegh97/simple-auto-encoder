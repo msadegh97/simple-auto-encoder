{
 "cells": [
  {
   "cell_type": "code",
   "execution_count": 1,
   "metadata": {},
   "outputs": [],
   "source": [
    "import numpy as np \n",
    "import pandas as pd \n",
    "import scipy as sp\n",
    "import matplotlib.pyplot as plt\n",
    "import gzip, pickle, sys \n",
    "\n",
    "%matplotlib inline"
   ]
  },
  {
   "cell_type": "code",
   "execution_count": 2,
   "metadata": {},
   "outputs": [],
   "source": [
    "f = gzip.open('Datasets/mnist.pkl.gz', 'rb')\n",
    "(input_train, output_train), (input_test, output_test), _ = pickle.load(f, encoding='bytes')"
   ]
  },
  {
   "cell_type": "markdown",
   "metadata": {},
   "source": [
    "## PCA "
   ]
  },
  {
   "cell_type": "code",
   "execution_count": 3,
   "metadata": {},
   "outputs": [
    {
     "data": {
      "text/plain": [
       "PCA(copy=True, iterated_power='auto', n_components=200, random_state=None,\n",
       "  svd_solver='auto', tol=0.0, whiten=False)"
      ]
     },
     "execution_count": 3,
     "metadata": {},
     "output_type": "execute_result"
    }
   ],
   "source": [
    "from sklearn.decomposition import PCA\n",
    "pca = PCA(n_components=200)\n",
    "pca.fit(input_train)"
   ]
  },
  {
   "cell_type": "code",
   "execution_count": 4,
   "metadata": {},
   "outputs": [],
   "source": [
    "x_train = pca.transform(input_train)\n"
   ]
  },
  {
   "cell_type": "code",
   "execution_count": 5,
   "metadata": {},
   "outputs": [
    {
     "data": {
      "image/png": "[encoded data removed]",
      "text/plain": [
       "<matplotlib.figure.Figure at 0x7f7b91dbceb8>"
      ]
     },
     "metadata": {},
     "output_type": "display_data"
    }
   ],
   "source": [
    "for i in range(4):\n",
    "    plt.subplot(2,2,i+1)\n",
    "    plt.imshow(input_train[i].reshape((28,28)), cmap=plt.cm.gray_r, interpolation='nearest')\n",
    "plt.show()"
   ]
  },
  {
   "cell_type": "code",
   "execution_count": 6,
   "metadata": {},
   "outputs": [
    {
     "data": {
      "image/png": "[encoded data removed]",
      "text/plain": [
       "<matplotlib.figure.Figure at 0x7f7b91dbcc50>"
      ]
     },
     "metadata": {},
     "output_type": "display_data"
    }
   ],
   "source": [
    "for i in range(4):\n",
    "    plt.subplot(2,2,i+1)\n",
    "    plt.imshow(pca.inverse_transform(x_train)[i].reshape((28, 28)), cmap=plt.cm.gray_r, interpolation='nearest' )\n",
    "plt.show()"
   ]
  },
  {
   "cell_type": "markdown",
   "metadata": {},
   "source": [
    "# NOW Auto Encoder\n"
   ]
  },
  {
   "cell_type": "code",
   "execution_count": 7,
   "metadata": {},
   "outputs": [
    {
     "name": "stderr",
     "output_type": "stream",
     "text": [
      "Using TensorFlow backend.\n"
     ]
    }
   ],
   "source": [
    "import keras\n",
    "from keras import Sequential\n",
    "from keras.layers import Dense, Dropout, Activation, Input\n",
    "from keras import regularizers\n",
    "from keras.optimizers import Adam, Nadam, RMSprop, Adadelta\n",
    "from keras.models import Model\n",
    "from keras.activations import sigmoid"
   ]
  },
  {
   "cell_type": "code",
   "execution_count": 20,
   "metadata": {},
   "outputs": [
    {
     "name": "stderr",
     "output_type": "stream",
     "text": [
      "/usr/local/lib/python3.5/dist-packages/ipykernel_launcher.py:34: UserWarning: Update your `Model` call to the Keras 2 API: `Model(inputs=Tensor(\"in..., outputs=Tensor(\"de...)`\n"
     ]
    }
   ],
   "source": [
    "\n",
    "inputs = Input(shape=(784,))\n",
    "\n",
    "\n",
    "model = Dense(600, activation='tanh')(inputs)\n",
    "model = Dropout(0.8)(model)\n",
    "\n",
    "model = Dense(500, activation='tanh')(model)\n",
    "model = Dropout(0.8)(model)\n",
    "\n",
    "\n",
    "model = Dense(400, activation='tanh')(model)\n",
    "\n",
    "\n",
    "model = Dense(300, activation='tanh')(model)\n",
    "model = Dropout(0.5)(model)\n",
    "\n",
    "\n",
    "model = Dense(200,activation='tanh')(model)\n",
    "\n",
    "\n",
    "model = Dense(300, activation='tanh')(model)\n",
    "\n",
    "\n",
    "model = Dense(400, activation='tanh')(model)\n",
    "\n",
    "model = Dense(500, activation='tanh')(model)\n",
    "model = Dropout(0.8)(model)\n",
    "\n",
    "model = Dense(600, activation='tanh')(model)\n",
    "\n",
    "model = Dense(784)(model)\n",
    "opt=Adam(lr=0.005, decay=1e-2)\n",
    "ae = Model(input = inputs, output = model)\n",
    "ae.compile(optimizer=keras.optimizers.Adam(), loss='mean_squared_error')\n"
   ]
  },
  {
   "cell_type": "code",
   "execution_count": 21,
   "metadata": {},
   "outputs": [
    {
     "name": "stdout",
     "output_type": "stream",
     "text": [
      "Epoch 1/20\n",
      "50000/50000 [==============================] - 30s 596us/step - loss: 0.0683\n",
      "Epoch 2/20\n",
      "50000/50000 [==============================] - 30s 594us/step - loss: 0.0483\n",
      "Epoch 3/20\n",
      "50000/50000 [==============================] - 34s 680us/step - loss: 0.0455\n",
      "Epoch 4/20\n",
      "50000/50000 [==============================] - 32s 635us/step - loss: 0.0440\n",
      "Epoch 5/20\n",
      "50000/50000 [==============================] - 33s 670us/step - loss: 0.0427\n",
      "Epoch 6/20\n",
      "50000/50000 [==============================] - 35s 706us/step - loss: 0.0417\n",
      "Epoch 7/20\n",
      "50000/50000 [==============================] - 30s 604us/step - loss: 0.0409\n",
      "Epoch 8/20\n",
      "50000/50000 [==============================] - 30s 605us/step - loss: 0.0403\n",
      "Epoch 9/20\n",
      "50000/50000 [==============================] - 30s 599us/step - loss: 0.0397\n",
      "Epoch 10/20\n",
      "50000/50000 [==============================] - 30s 600us/step - loss: 0.0392\n",
      "Epoch 11/20\n",
      "50000/50000 [==============================] - 30s 601us/step - loss: 0.0389\n",
      "Epoch 12/20\n",
      "50000/50000 [==============================] - 30s 610us/step - loss: 0.0386\n",
      "Epoch 13/20\n",
      "50000/50000 [==============================] - 31s 629us/step - loss: 0.0383\n",
      "Epoch 14/20\n",
      "50000/50000 [==============================] - 35s 696us/step - loss: 0.0380\n",
      "Epoch 15/20\n",
      "50000/50000 [==============================] - 33s 668us/step - loss: 0.0379\n",
      "Epoch 16/20\n",
      "50000/50000 [==============================] - 34s 684us/step - loss: 0.0377\n",
      "Epoch 17/20\n",
      "50000/50000 [==============================] - 32s 641us/step - loss: 0.0375\n",
      "Epoch 18/20\n",
      "50000/50000 [==============================] - 32s 641us/step - loss: 0.0374\n",
      "Epoch 19/20\n",
      "50000/50000 [==============================] - 30s 599us/step - loss: 0.0372\n",
      "Epoch 20/20\n",
      "50000/50000 [==============================] - 30s 598us/step - loss: 0.0372\n"
     ]
    },
    {
     "data": {
      "text/plain": [
       "<keras.callbacks.History at 0x7f7b845d7f60>"
      ]
     },
     "execution_count": 21,
     "metadata": {},
     "output_type": "execute_result"
    }
   ],
   "source": [
    "ae.fit(input_train, input_train, epochs= 20, batch_size = 128, shuffle=True)\n"
   ]
  },
  {
   "cell_type": "code",
   "execution_count": 22,
   "metadata": {},
   "outputs": [],
   "source": [
    "a =ae.predict(input_train)"
   ]
  },
  {
   "cell_type": "code",
   "execution_count": 27,
   "metadata": {},
   "outputs": [
    {
     "data": {
      "image/png": "[encoded data removed]",
      "text/plain": [
       "<matplotlib.figure.Figure at 0x7f7b537a9898>"
      ]
     },
     "metadata": {},
     "output_type": "display_data"
    }
   ],
   "source": [
    "for i in range(4):\n",
    "    plt.subplot(2,2,i+1)\n",
    "    plt.imshow(input_train[i].reshape((28,28)), cmap=plt.cm.gray_r, interpolation='nearest')\n",
    "plt.show()"
   ]
  },
  {
   "cell_type": "code",
   "execution_count": 23,
   "metadata": {},
   "outputs": [
    {
     "data": {
      "image/png": "[encoded data removed]",
      "text/plain": [
       "<matplotlib.figure.Figure at 0x7f7b5698b898>"
      ]
     },
     "metadata": {},
     "output_type": "display_data"
    }
   ],
   "source": [
    "for i in range(4):\n",
    "    plt.subplot(2,2,i+1)\n",
    "    plt.imshow(a[i].reshape((28, 28)), cmap=plt.cm.gray_r, interpolation='nearest' )\n",
    "plt.show()"
   ]
  },
  {
   "cell_type": "code",
   "execution_count": 24,
   "metadata": {},
   "outputs": [
    {
     "data": {
      "image/png": "[encoded data removed]",
      "text/plain": [
       "<matplotlib.figure.Figure at 0x7f7b56904ba8>"
      ]
     },
     "metadata": {},
     "output_type": "display_data"
    }
   ],
   "source": [
    "for i in range(4):\n",
    "    plt.subplot(2,2,i+1)\n",
    "    plt.imshow(input_test[i].reshape((28,28)), cmap=plt.cm.gray_r, interpolation='nearest')\n",
    "plt.show()"
   ]
  },
  {
   "cell_type": "code",
   "execution_count": 25,
   "metadata": {},
   "outputs": [],
   "source": [
    "a =ae.predict(input_test)"
   ]
  },
  {
   "cell_type": "code",
   "execution_count": 26,
   "metadata": {},
   "outputs": [
    {
     "data": {
      "image/png": "[encoded data removed]",
      "text/plain": [
       "<matplotlib.figure.Figure at 0x7f7b568dc400>"
      ]
     },
     "metadata": {},
     "output_type": "display_data"
    }
   ],
   "source": [
    "for i in range(4):\n",
    "    plt.subplot(2,2,i+1)\n",
    "    plt.imshow(a[i].reshape((28, 28)), cmap=plt.cm.gray_r, interpolation='nearest' )\n",
    "plt.show()"
   ]
  },
  {
   "cell_type": "code",
   "execution_count": null,
   "metadata": {},
   "outputs": [],
   "source": []
  }
 ],
 "metadata": {
  "kernelspec": {
   "display_name": "Python 3",
   "language": "python",
   "name": "python3"
  },
  "language_info": {
   "codemirror_mode": {
    "name": "ipython",
    "version": 3
   },
   "file_extension": ".py",
   "mimetype": "text/x-python",
   "name": "python",
   "nbconvert_exporter": "python",
   "pygments_lexer": "ipython3",
   "version": "3.5.2"
  }
 },
 "nbformat": 4,
 "nbformat_minor": 2
}
